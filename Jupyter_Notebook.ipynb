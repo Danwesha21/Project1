{
 "cells": [
  {
   "cell_type": "markdown",
   "metadata": {},
   "source": [
    "<center>\n",
    "    <img src=\"https://cf-courses-data.s3.us.cloud-object-storage.appdomain.cloud/IBMDeveloperSkillsNetwork-DS0105EN-SkillsNetwork/labs/Module2/images/SN_web_lightmode.png\" width=\"300\" alt=\"cognitiveclass.ai logo\">\n",
    "</center>\n"
   ]
  },
  {
   "cell_type": "markdown",
   "metadata": {},
   "source": [
    "#### Add your code below following the instructions given in the course\n"
   ]
  },
  {
   "cell_type": "markdown",
   "metadata": {},
   "source": [
    "Coursera-DataScience course: tools for datascience project1"
   ]
  },
  {
   "cell_type": "markdown",
   "metadata": {},
   "source": [
    "Introduction: "
   ]
  },
  {
   "cell_type": "markdown",
   "metadata": {},
   "source": [
    "Data science languages:\n",
    "1.Python\n",
    "2.R\n",
    "3.SQL\n",
    "4.Scala\n",
    "5.Java\n",
    "6.Julia\n",
    "7.Javascript\n",
    "8.swift\n",
    "9.GO"
   ]
  },
  {
   "cell_type": "markdown",
   "metadata": {},
   "source": [
    "Data science Libraries:\n",
    "1.Pandas\n",
    "2.Matplotlib\n",
    "3.Numpy\n",
    "4.Tensorflow\n",
    "5.Plotly"
   ]
  },
  {
   "cell_type": "markdown",
   "metadata": {},
   "source": [
    "| Category                 | Tool             | \n",
    "|--------------------------|------------------|\n",
    "|      Data Manipulation   | Pandas           | \n",
    "|                          | NumPy            |\n",
    "|   Data Visualization     | Matplotlib       | \n",
    "|                          | Seaborn          |\n",
    "|                          | Plotly           | \n",
    "| **Machine Learning**     | Scikit-learn     |\n",
    "|                          | TensorFlow       | \n",
    "|                          | PyTorch          | \n",
    "| **Big Data Processing**  | PySpark          | \n",
    "|                          | Dask             | \n",
    "| **NLP**                  | NLTK             | \n",
    "|                          | spaCy            | \n",
    "|                          | Hugging Face     |\n",
    "| **Statistical Analysis** | Statsmodels      |             \n",
    "|                          | SciPy            | "
   ]
  },
  {
   "cell_type": "markdown",
   "metadata": {},
   "source": [
    "3+2=5"
   ]
  },
  {
   "cell_type": "code",
   "execution_count": 4,
   "metadata": {},
   "outputs": [
    {
     "name": "stdout",
     "output_type": "stream",
     "text": [
      "sum is: 9\n",
      "mul is: 20\n"
     ]
    }
   ],
   "source": [
    "a=4\n",
    "b=5\n",
    "c=a+b\n",
    "d=a*b\n",
    "print(\"sum is:\",c)\n",
    "print(\"mul is:\",d)"
   ]
  },
  {
   "cell_type": "code",
   "execution_count": 5,
   "metadata": {},
   "outputs": [
    {
     "name": "stdout",
     "output_type": "stream",
     "text": [
      "90 minutes is equal to 1.50 hours.\n"
     ]
    }
   ],
   "source": [
    "minutes = 90 \n",
    "hours = minutes / 60\n",
    "\n",
    "print(f\"{minutes} minutes is equal to {hours:.2f} hours.\")"
   ]
  },
  {
   "cell_type": "markdown",
   "metadata": {
    "jp-MarkdownHeadingCollapsed": true
   },
   "source": [
    "Objectives:\n",
    "1. Understand basic arithmetic operations in Python.\n",
    "2. Learn to write code to perform simple tasks without functions.\n",
    "3. Practice converting units, such as minutes to hours.\n",
    "4. Improve Python programming skills with hands-on examples."
   ]
  },
  {
   "cell_type": "markdown",
   "metadata": {},
   "source": [
    "Author's Name: Romeo Kienzler"
   ]
  }
 ],
 "metadata": {
  "kernelspec": {
   "display_name": "Python 3 (ipykernel)",
   "language": "python",
   "name": "python3"
  },
  "language_info": {
   "codemirror_mode": {
    "name": "ipython",
    "version": 3
   },
   "file_extension": ".py",
   "mimetype": "text/x-python",
   "name": "python",
   "nbconvert_exporter": "python",
   "pygments_lexer": "ipython3",
   "version": "3.11.9"
  }
 },
 "nbformat": 4,
 "nbformat_minor": 4
}
